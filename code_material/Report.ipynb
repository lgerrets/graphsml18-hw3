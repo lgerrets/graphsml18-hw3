{
 "cells": [
  {
   "cell_type": "markdown",
   "metadata": {},
   "source": [
    "# TP3 - Graphs in ML\n",
    "\n",
    "Student: Lucas Gerretsen\n",
    "\n",
    "Instructor: Pierre Perrault\n",
    "\n",
    "Deadline: 26/12/2018"
   ]
  },
  {
   "cell_type": "markdown",
   "metadata": {},
   "source": [
    "## Q2\n",
    "\n",
    "We implement *incremental k-centers* to solve an online semi-supervised problem of face recognition."
   ]
  },
  {
   "cell_type": "code",
   "execution_count": 1,
   "metadata": {
    "scrolled": true
   },
   "outputs": [
    {
     "data": {
      "text/plain": [
       "<module 'Online_SSL.func' from '/home/lucas/Documents/MVA/Graphs/TP3/code_material/Online_SSL/func.py'>"
      ]
     },
     "execution_count": 1,
     "metadata": {},
     "output_type": "execute_result"
    }
   ],
   "source": [
    "from importlib import reload\n",
    "import Online_SSL.func as ssl\n",
    "reload(ssl)"
   ]
  },
  {
   "cell_type": "code",
   "execution_count": 12,
   "metadata": {},
   "outputs": [
    {
     "name": "stdout",
     "output_type": "stream",
     "text": [
      "Profile found with 8 images.\n",
      "Image 9 saved at ./data/faces/lucas/img_9.bmp\n",
      "Image 10 saved at ./data/faces/lucas/img_10.bmp\n",
      "Image 11 saved at ./data/faces/lucas/img_11.bmp\n",
      "Image 12 saved at ./data/faces/lucas/img_12.bmp\n",
      "Image 13 saved at ./data/faces/lucas/img_13.bmp\n"
     ]
    }
   ],
   "source": [
    "ssl.create_user_profile(\"lucas\", faces_path = \"./data/\")"
   ]
  },
  {
   "cell_type": "code",
   "execution_count": 2,
   "metadata": {
    "scrolled": true
   },
   "outputs": [
    {
     "name": "stdout",
     "output_type": "stream",
     "text": [
      "Profile found with 16 images.\n",
      "Profile found with 13 images.\n",
      "[s]ave a frame ?\n",
      "saved\n",
      "saved\n",
      "saved\n",
      "saved\n",
      "saved\n",
      "saved\n",
      "saved\n",
      "saved\n",
      "saved\n",
      "saved\n",
      "saved\n",
      "saved\n",
      "saved\n",
      "saved\n"
     ]
    }
   ],
   "source": [
    "ssl.online_face_recognition(['alice','lucas'], faces_path='./data/', n_pictures=20)"
   ]
  },
  {
   "cell_type": "markdown",
   "metadata": {},
   "source": [
    "Note that we do not use any learning of a feature representation, and apply distances directly on the raw pixels of the segmented faces. Such learning could help in improving the performances."
   ]
  },
  {
   "cell_type": "markdown",
   "metadata": {},
   "source": [
    "## Q3"
   ]
  },
  {
   "cell_type": "code",
   "execution_count": 4,
   "metadata": {},
   "outputs": [
    {
     "data": {
      "text/plain": [
       "<module 'Large_Scale_Label_Propagation.func' from '/home/lucas/Documents/MVA/Graphs/TP3/code_material/Large_Scale_Label_Propagation/func.py'>"
      ]
     },
     "execution_count": 4,
     "metadata": {},
     "output_type": "execute_result"
    }
   ],
   "source": [
    "from Large_Scale_Label_Propagation import func as lslp\n",
    "from importlib import reload\n",
    "reload(lslp)"
   ]
  },
  {
   "cell_type": "code",
   "execution_count": 5,
   "metadata": {},
   "outputs": [
    {
     "data": {
      "text/plain": [
       "(array([1., 1., 1., ..., 2., 2., 2.]), 0.9998666666666667)"
      ]
     },
     "execution_count": 5,
     "metadata": {},
     "output_type": "execute_result"
    }
   ],
   "source": [
    "lslp.iterative_hfs(niter = 20)"
   ]
  },
  {
   "cell_type": "code",
   "execution_count": null,
   "metadata": {},
   "outputs": [],
   "source": []
  }
 ],
 "metadata": {
  "kernelspec": {
   "display_name": "Python 3",
   "language": "python",
   "name": "python3"
  },
  "language_info": {
   "codemirror_mode": {
    "name": "ipython",
    "version": 3
   },
   "file_extension": ".py",
   "mimetype": "text/x-python",
   "name": "python",
   "nbconvert_exporter": "python",
   "pygments_lexer": "ipython3",
   "version": "3.6.6"
  }
 },
 "nbformat": 4,
 "nbformat_minor": 2
}
